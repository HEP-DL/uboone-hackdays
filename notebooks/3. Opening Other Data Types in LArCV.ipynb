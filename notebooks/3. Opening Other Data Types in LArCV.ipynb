{
 "cells": [
  {
   "cell_type": "markdown",
   "metadata": {},
   "source": [
    "## The usual preamble\n",
    "\n",
    "Note that we're instantiating the larcv IOManager. This sets up static variables which are used by the compiled software."
   ]
  },
  {
   "cell_type": "code",
   "execution_count": 35,
   "metadata": {
    "collapsed": false,
    "deletable": true,
    "editable": true
   },
   "outputs": [],
   "source": [
    "from larcv import larcv\n",
    "larcv.IOManager\n",
    "from ROOT import TChain\n",
    "import numpy as np\n",
    "import scipy.misc as smp"
   ]
  },
  {
   "cell_type": "markdown",
   "metadata": {},
   "source": [
    "The snippet below should be familiar from the previous notebook."
   ]
  },
  {
   "cell_type": "code",
   "execution_count": 36,
   "metadata": {
    "collapsed": false,
    "deletable": true,
    "editable": true
   },
   "outputs": [
    {
     "data": {
      "text/plain": [
       "1"
      ]
     },
     "execution_count": 36,
     "metadata": {},
     "output_type": "execute_result"
    }
   ],
   "source": [
    "roi_tree_name='partroi_tpc_hires_crop_tree'\n",
    "roi_br_name=roi_tree_name.replace('tree','branch')\n",
    "roi_ch = TChain(roi_tree_name)\n",
    "roi_ch.AddFile('../test.root')"
   ]
  },
  {
   "cell_type": "markdown",
   "metadata": {},
   "source": [
    "## ROI and Bounding Boxes"
   ]
  },
  {
   "cell_type": "code",
   "execution_count": 37,
   "metadata": {
    "collapsed": false
   },
   "outputs": [
    {
     "name": "stdout",
     "output_type": "stream",
     "text": [
      "      \u001b[95mParticle Unknown (PdgCode,TrackID) = (11,4294967295)\u001b[00m ... with Parent (0,4294967295)\n",
      "      Vertex   (x, y, z, t) = (69.1354,80.4858,630.047,1397.42)\n",
      "      Momentum (px, py, pz) = (-803.985,-156.442,42.744)\n",
      "      Inittial Energy = 820.178\n",
      "      Deposit  Energy = 727.087\n",
      "      # Bounding Box  = 3\n",
      "          Plane 0 (rows,cols) = (234,162) ... Left Top (1018,4594) ... Right Bottom (1342,3190)\n",
      "          Plane 1 (rows,cols) = (234,150) ... Left Top (1430,4594) ... Right Bottom (1730,3190)\n",
      "          Plane 2 (rows,cols) = (234,151) ... Left Top (1930,4594) ... Right Bottom (2232,3190)\n",
      "\n",
      "\n"
     ]
    }
   ],
   "source": [
    "roi_ch.GetEntry(0)\n",
    "roi_br=getattr(roi_ch, roi_br_name)\n",
    "bb_array = roi_br.ROIArray()\n",
    "bb = bb_array.at(0)\n",
    "print bb.dump()"
   ]
  },
  {
   "cell_type": "markdown",
   "metadata": {},
   "source": [
    "## PMT Information"
   ]
  },
  {
   "cell_type": "code",
   "execution_count": 38,
   "metadata": {
    "collapsed": false
   },
   "outputs": [
    {
     "name": "stdout",
     "output_type": "stream",
     "text": [
      "1\n",
      "Plane 65535 (rows,cols) = (1500,32) ... Left Top (0,1499) ... Right Bottom (32,-1)\n",
      "\n"
     ]
    }
   ],
   "source": [
    "pmt_tree_name='image2d_pmt_tree'\n",
    "pmt_br_name=pmt_tree_name.replace('tree','branch')\n",
    "pmt_ch = TChain(pmt_tree_name)\n",
    "pmt_ch.AddFile('../test.root')\n",
    "\n",
    "pmt_ch.GetEntry(0)\n",
    "pmt_br=getattr(pmt_ch, pmt_br_name)\n",
    "pmt_array = pmt_br.Image2DArray()\n",
    "print pmt_array.size()\n",
    "pmt_image = pmt_array.at(0)\n",
    "print pmt_image.meta().dump()"
   ]
  },
  {
   "cell_type": "markdown",
   "metadata": {},
   "source": [
    "## Painting PMT Information"
   ]
  },
  {
   "cell_type": "code",
   "execution_count": 41,
   "metadata": {
    "collapsed": false
   },
   "outputs": [
    {
     "data": {
      "image/png": "[encoded data removed]",
      "text/plain": [
       "<IPython.core.display.Image object>"
      ]
     },
     "execution_count": 41,
     "metadata": {},
     "output_type": "execute_result"
    }
   ],
   "source": [
    "data = np.zeros( (32,1500,3), dtype=np.uint8 )\n",
    "for i in range(1500):\n",
    "    for j in range(32):\n",
    "        data[j,i] = [pmt_br.at(0).pixel(i,j),0,0] \n",
    "img = smp.toimage( data )       # Create a PIL image\n",
    "img.save('pmt_image.png')\n",
    "from IPython.display import Image\n",
    "Image(filename='pmt_image.png') "
   ]
  },
  {
   "cell_type": "markdown",
   "metadata": {},
   "source": [
    "## Segment Information"
   ]
  },
  {
   "cell_type": "code",
   "execution_count": 47,
   "metadata": {
    "collapsed": false
   },
   "outputs": [
    {
     "name": "stdout",
     "output_type": "stream",
     "text": [
      "3\n",
      "Plane 0 (rows,cols) = (576,576) ... Left Top (868,5856) ... Right Bottom (2020,2400)\n",
      "\n"
     ]
    }
   ],
   "source": [
    "seg_tree_name='image2d_segment_hires_crop_tree'\n",
    "seg_br_name=seg_tree_name.replace('tree','branch')\n",
    "seg_ch = TChain(seg_tree_name)\n",
    "seg_ch.AddFile('../test.root')\n",
    "\n",
    "seg_ch.GetEntry(0)\n",
    "seg_br=getattr(seg_ch, seg_br_name)\n",
    "seg_array = seg_br.Image2DArray()\n",
    "print seg_array.size()\n",
    "seg_image = seg_array.at(0)\n",
    "print seg_image.meta().dump()"
   ]
  },
  {
   "cell_type": "code",
   "execution_count": 48,
   "metadata": {
    "collapsed": false
   },
   "outputs": [
    {
     "data": {
      "image/png": "[encoded data removed]",
      "text/plain": [
       "<IPython.core.display.Image object>"
      ]
     },
     "execution_count": 48,
     "metadata": {},
     "output_type": "execute_result"
    }
   ],
   "source": [
    "data = np.zeros( (576,576,3), dtype=np.uint8 )\n",
    "for i in range(576):\n",
    "    for j in range(576):\n",
    "        data[i,j] = [seg_br.at(0).pixel(i,j),seg_br.at(1).pixel(i,j),seg_br.at(2).pixel(i,j)] \n",
    "img = smp.toimage( data )       # Create a PIL image\n",
    "img.save('segment_image.png')\n",
    "from IPython.display import Image\n",
    "Image(filename='segment_image.png') "
   ]
  },
  {
   "cell_type": "markdown",
   "metadata": {},
   "source": [
    "## Channel Status"
   ]
  },
  {
   "cell_type": "code",
   "execution_count": null,
   "metadata": {
    "collapsed": true
   },
   "outputs": [],
   "source": []
  }
 ],
 "metadata": {
  "kernelspec": {
   "display_name": "Python 2",
   "language": "python",
   "name": "python2"
  },
  "language_info": {
   "codemirror_mode": {
    "name": "ipython",
    "version": 2
   },
   "file_extension": ".py",
   "mimetype": "text/x-python",
   "name": "python",
   "nbconvert_exporter": "python",
   "pygments_lexer": "ipython2",
   "version": "2.7.6"
  }
 },
 "nbformat": 4,
 "nbformat_minor": 2
}
