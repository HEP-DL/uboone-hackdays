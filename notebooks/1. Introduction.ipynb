{
 "cells": [
  {
   "cell_type": "markdown",
   "metadata": {
    "deletable": true,
    "editable": true
   },
   "source": [
    "# Prerequisites\n",
    "\n",
    "The following items are required for this tutorial:\n",
    "\n",
    "* jupyter-notebook  or ipython notebook\n",
    "* matplotlib\n",
    "* pandas\n",
    "* caffe\n",
    "* numpy\n",
    "* lmdb\n",
    "* ROOT\n",
    "\n",
    "The following pre-amble will included in most of the following examples. Everything here encompases the toolsuite we'll be using, and while it's _non-pythonic_ to include everything, seeing everything in a single place is instructive."
   ]
  },
  {
   "cell_type": "code",
   "execution_count": 3,
   "metadata": {
    "collapsed": false,
    "deletable": true,
    "editable": true
   },
   "outputs": [],
   "source": [
    "import matplotlib \n",
    "# This can also be ipython magic such as `matplotlib inline` or `matplotlib notebook`\n",
    "matplotlib.use('Agg')\n",
    "\n",
    "import os,commands,signal,sys,tempfile\n",
    "os.environ['GLOG_minloglevel'] = '2' # set message level to warning\n",
    "import pandas\n",
    "import caffe\n",
    "import numpy as np\n",
    "import ROOT as rt\n",
    "import lmdb\n",
    "import time\n",
    "#imports the larcv tools from ROOT\n",
    "from ROOT import larcv\n",
    "import matplotlib.pyplot as plt"
   ]
  },
  {
   "cell_type": "markdown",
   "metadata": {
    "collapsed": true,
    "deletable": true,
    "editable": true
   },
   "source": [
    "Don't worry about warnings being thrown. These typically occur when dealing with ROOT, and have little consequence.\n",
    "\n",
    "Assuming the above cell ran without problem, then you should be good to go for running inference on the "
   ]
  },
  {
   "cell_type": "code",
   "execution_count": null,
   "metadata": {
    "collapsed": true
   },
   "outputs": [],
   "source": []
  }
 ],
 "metadata": {
  "kernelspec": {
   "display_name": "Python 2",
   "language": "python",
   "name": "python2"
  },
  "language_info": {
   "codemirror_mode": {
    "name": "ipython",
    "version": 2
   },
   "file_extension": ".py",
   "mimetype": "text/x-python",
   "name": "python",
   "nbconvert_exporter": "python",
   "pygments_lexer": "ipython2",
   "version": "2.7.6"
  }
 },
 "nbformat": 4,
 "nbformat_minor": 1
}
