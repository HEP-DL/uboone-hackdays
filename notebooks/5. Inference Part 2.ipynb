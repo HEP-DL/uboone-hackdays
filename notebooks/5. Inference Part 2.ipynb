{
 "cells": [
  {
   "cell_type": "code",
   "execution_count": null,
   "metadata": {
    "collapsed": true
   },
   "outputs": [],
   "source": [
    "import caffe\n",
    "from larcv import larcv\n",
    "import time\n",
    "\n",
    "prototxt = '/workspace/plainresnet10b/sp_plainresnet10b_test.prototxt'\n",
    "model_snapshot = '/workspace/plainresnet10b/sp_plainresnet10b_iter_195750.caffemodel.h5'\n",
    "net = caffe.Net(prototxt, model_snapshot,caffe.TEST)"
   ]
  }
 ],
 "metadata": {
  "kernelspec": {
   "display_name": "Python 2",
   "language": "python",
   "name": "python2"
  },
  "language_info": {
   "codemirror_mode": {
    "name": "ipython",
    "version": 2
   },
   "file_extension": ".py",
   "mimetype": "text/x-python",
   "name": "python",
   "nbconvert_exporter": "python",
   "pygments_lexer": "ipython2",
   "version": "2.7.6"
  }
 },
 "nbformat": 4,
 "nbformat_minor": 2
}
