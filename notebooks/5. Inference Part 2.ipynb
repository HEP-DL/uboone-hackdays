{
 "cells": [
  {
   "cell_type": "markdown",
   "metadata": {
    "collapsed": true,
    "deletable": true,
    "editable": true
   },
   "source": [
    "# Batch Inference\n",
    "\n",
    "> Warning: Much like the previous step, this suffers from running on a CPU and from withing an iPython notebook."
   ]
  },
  {
   "cell_type": "code",
   "execution_count": 1,
   "metadata": {
    "collapsed": false,
    "deletable": true,
    "editable": true
   },
   "outputs": [
    {
     "data": {
      "application/javascript": [
       "require(['codemirror/mode/clike/clike'], function(Clike) { console.log('ROOTaaS - C++ CodeMirror module loaded'); });"
      ]
     },
     "metadata": {},
     "output_type": "display_data"
    },
    {
     "data": {
      "application/javascript": [
       "IPython.CodeCell.config_defaults.highlight_modes['magic_text/x-c++src'] = {'reg':[/^%%cpp/]};"
      ]
     },
     "metadata": {},
     "output_type": "display_data"
    },
    {
     "name": "stdout",
     "output_type": "stream",
     "text": [
      "Welcome to ROOTaaS 6.06/08\n"
     ]
    }
   ],
   "source": [
    "import matplotlib \n",
    "# This can also be ipython magic such as `matplotlib inline` or `matplotlib notebook`\n",
    "matplotlib.use('Agg')\n",
    "\n",
    "import os,commands,signal,sys,tempfile\n",
    "os.environ['GLOG_minloglevel'] = '2' # set message level to warning\n",
    "import pandas\n",
    "import caffe\n",
    "import numpy as np\n",
    "import ROOT\n",
    "import lmdb\n",
    "import time\n",
    "#imports the larcv tools from ROOT\n",
    "from larcv import larcv\n",
    "import matplotlib.pyplot as plt"
   ]
  },
  {
   "cell_type": "markdown",
   "metadata": {
    "deletable": true,
    "editable": true
   },
   "source": [
    "This function very simply finds all of the files matching a given range of iterations. The idea is to re-run the metric for accuracy on each one and plot out the accuracy as a function of iteration or `iteration/200000:=epoch`."
   ]
  },
  {
   "cell_type": "code",
   "execution_count": null,
   "metadata": {
    "collapsed": true
   },
   "outputs": [],
   "source": [
    "def find_iter(directory, start, stop):\n",
    "    logging.debug(\"Finding iteration files for {} in [{},{}]\".format(directory,\\\n",
    " start, stop))\n",
    "    files = [ i for i in os.listdir(directory) if i.endswith('caffemodel.h5')]\n",
    "    ret=[]\n",
    "    for _file in files:\n",
    "        iter_num=int(_file.split('_')[-1].split('.')[0])\n",
    "        if iter_num>=start and iter_num<=stop:\n",
    "            ret.append(os.path.join(directory,_file))\n",
    "    logging.debug(\"Found: [{}] Entries\".format(len(ret)))\n",
    "    return ret"
   ]
  },
  {
   "cell_type": "markdown",
   "metadata": {},
   "source": [
    "This cell creates a tuple of two lists. The first list holds the iteration number of each snapshot and the second holds the accuracy of the snapshot."
   ]
  },
  {
   "cell_type": "code",
   "execution_count": null,
   "metadata": {
    "collapsed": true
   },
   "outputs": [],
   "source": [
    "def accuracy_as_a_function_of_iteration(directory, start, stop, model):\n",
    "    files = find_iter(directory, start, stop)\n",
    "    out = ([],[])\n",
    "    for _file in files:\n",
    "        iter_num=int(_file.split('_')[-1].split('.')[0])\n",
    "        net = caffe.Net(model, _file,caffe.TEST)\n",
    "        filler_name = 'DataFiller'\n",
    "        # check if larcv IO processor does in fact exist and registered in a factory\n",
    "        if not larcv.ThreadFillerFactory.exist_filler(filler_name):\n",
    "            print '\\033[93mFiller',filler_name,'does not exist...\\033[00m'\n",
    "\n",
    "\n",
    "        # get IO instance, ThreadDatumFiller instance, from the factory\n",
    "        filler = larcv.ThreadFillerFactory.get_filler(filler_name)\n",
    "        filler.pd().random_access(False)\n",
    "        # get num events to be processed \n",
    "        num_events = filler.get_n_entries()\n",
    "\n",
    "        # construct our own IO to fetch ROI object for physics analysis, use RED mode w/ same input files\n",
    "        myio = larcv.IOManager(0,\"AnaIO\")\n",
    "        myio.add_in_file('../test.root')\n",
    "        myio.initialize()\n",
    "        # force the filler to move the next event-to-read pointer to the entry of our interest\n",
    "        filler.set_next_index(0)\n",
    "\n",
    "        accuracy=0.0\n",
    "        for _iter in range(1000):\n",
    "            # This will take some time. Esp w/o a GPU\n",
    "            net.forward()\n",
    "\n",
    "            # Wait until the filler is done filling the buffer\n",
    "            while filler.thread_running():\n",
    "                time.sleep(0.001)\n",
    "\n",
    "            # get a vector of integers that record TTree entry numbers processed in this mini-batch\n",
    "            entries = filler.processed_entries()\n",
    "\n",
    "            # retrieve data already read-and-stored-in-memory from caffe blob\n",
    "            adcimgs = net.blobs[\"data\"].data    # this is image\n",
    "            labels  = net.blobs[\"label\"].data   # this is label\n",
    "            scores  = net.blobs[\"softmax\"].data # this is final output softmax vector\n",
    "            # loop over entry of mini-batch outcome\n",
    "            for index in xrange(1):\n",
    "                print \"Entry: \", entries[index]\n",
    "                print \"npx: \", (adcimgs > 0).sum()\n",
    "                print \"Label: \", int(labels)\n",
    "                print \"Prediction: \", scores.argmax()\n",
    "                print \"EMinus: \", scores[index][0]\n",
    "                print \"Gamma: \", scores[index][1]\n",
    "                print \"MuMinus: \", scores[index][2]\n",
    "                print \"PiMinus: \", scores[index][3]\n",
    "                print \"Proton: \", scores[index][4]\n",
    "\n",
    "                if int(labels) == scores.argmax():\n",
    "                    accuracy+=1.0\n",
    "        accuracy = accuracy/1000.0\n",
    "        out[0].append(iter_num)\n",
    "        out[1].append(accuracy)\n",
    "        myio.finalize()\n",
    "        # destroy thread filler via factory, an owner\n",
    "        larcv.ThreadFillerFactory.destroy_filler(filler_name)       \n",
    "    return out"
   ]
  },
  {
   "cell_type": "code",
   "execution_count": 8,
   "metadata": {
    "collapsed": false,
    "deletable": true,
    "editable": true
   },
   "outputs": [],
   "source": [
    "x,y = accuracy_as_a_function_of_iteration('/workspace/plainresnet10b/', 0, 10000, \n",
    "                                          '/workspace/plainresnet10b_untrained/sp_plainresnet10b_test.prototxt')\n",
    "fig = plt.figure()\n",
    "plt.plot(x, y)\n",
    "plt.show()  "
   ]
  }
 ],
 "metadata": {
  "kernelspec": {
   "display_name": "Python 2",
   "language": "python",
   "name": "python2"
  },
  "language_info": {
   "codemirror_mode": {
    "name": "ipython",
    "version": 2
   },
   "file_extension": ".py",
   "mimetype": "text/x-python",
   "name": "python",
   "nbconvert_exporter": "python",
   "pygments_lexer": "ipython2",
   "version": "2.7.6"
  }
 },
 "nbformat": 4,
 "nbformat_minor": 2
}
