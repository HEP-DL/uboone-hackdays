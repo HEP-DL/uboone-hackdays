{
 "cells": [
  {
   "cell_type": "markdown",
   "metadata": {},
   "source": [
    "## The Usual Preamble\n",
    "\n",
    "This time around, we're going to be using larcv for the objects in file. In addition, ROOT will be used for the native capabilities to pull objects out of file."
   ]
  },
  {
   "cell_type": "code",
   "execution_count": 1,
   "metadata": {
    "collapsed": false,
    "deletable": true,
    "editable": true
   },
   "outputs": [
    {
     "data": {
      "application/javascript": [
       "require(['codemirror/mode/clike/clike'], function(Clike) { console.log('ROOTaaS - C++ CodeMirror module loaded'); });"
      ]
     },
     "metadata": {},
     "output_type": "display_data"
    },
    {
     "data": {
      "application/javascript": [
       "IPython.CodeCell.config_defaults.highlight_modes['magic_text/x-c++src'] = {'reg':[/^%%cpp/]};"
      ]
     },
     "metadata": {},
     "output_type": "display_data"
    },
    {
     "name": "stdout",
     "output_type": "stream",
     "text": [
      "Welcome to ROOTaaS 6.06/08\n"
     ]
    }
   ],
   "source": [
    "from larcv import larcv\n",
    "from ROOT import TChain\n",
    "import numpy as np\n",
    "import scipy.misc as smp\n",
    "%matplotlib inline"
   ]
  },
  {
   "cell_type": "markdown",
   "metadata": {},
   "source": [
    "## Reading the Contents of Files\n",
    "Here, larcv's iomanager is going to be used to automatically parse the contents of the `test.root` file."
   ]
  },
  {
   "cell_type": "code",
   "execution_count": 2,
   "metadata": {
    "collapsed": false
   },
   "outputs": [
    {
     "name": "stdout",
     "output_type": "stream",
     "text": [
      "Producer type: 0 (aka image2d ):\n",
      "pmt\n",
      "segment_hires_crop\n",
      "tpc_hires_crop\n",
      "Producer type: 1 (aka partroi ):\n",
      "tpc_hires_crop\n",
      "Producer type: 2 (aka chstatus ):\n",
      "tpc\n",
      "Producer type: 3 (aka pixel2d ):\n",
      "    \u001b[95m[NORMAL]\u001b[00m \u001b[0m \u001b[94m<IOManager::prepare_input>\u001b[00m Opening a file in READ mode: ../test.root\r\n",
      "    \u001b[95m[NORMAL]\u001b[00m \u001b[0m \u001b[94m<IOManager::initialize>\u001b[00m Prepared input with 42500 entries...\r\n"
     ]
    }
   ],
   "source": [
    "# Initializes the IO Manager to read out the inference file\n",
    "io=larcv.IOManager(larcv.IOManager.kREAD)\n",
    "io.add_in_file('../test.root')\n",
    "io.initialize()\n",
    "\n",
    "# Here, kProductUnkown is part of an enum used to specify the types of objects in file\n",
    "for x in xrange(larcv.kProductUnknown):\n",
    "    # producers are the classes responsible for creating the objects in file\n",
    "    producers=io.producer_list(x)\n",
    "    print 'Producer type:',x,'(aka',larcv.ProductName(x),'):'\n",
    "    for p in producers: print p"
   ]
  },
  {
   "cell_type": "markdown",
   "metadata": {},
   "source": [
    "As we can see above, there are 3 types of 2DImages in file. One for the TPC, one for the semantic segmentation output and one for the PMT projections.\n",
    "\n",
    "Partroi holds arrays denoting the regions of interest \n",
    "\n",
    "The channel status (which ones are dead channels) is only produced from the TPC.\n",
    "\n",
    "In addition, the IOManager will output various information to std::out. These are the last two lines."
   ]
  },
  {
   "cell_type": "markdown",
   "metadata": {},
   "source": [
    "## Using ROOT to read objects in File.\n",
    "\n",
    "Below uses a ROOT TChain to read objects out of file. \n",
    "\n",
    "### Reading a single image\n",
    "The first example below simply pulls a single object out of file."
   ]
  },
  {
   "cell_type": "code",
   "execution_count": 3,
   "metadata": {
    "collapsed": false,
    "deletable": true,
    "editable": true
   },
   "outputs": [
    {
     "name": "stdout",
     "output_type": "stream",
     "text": [
      "Class in Branch:  <ROOT.larcv::EventImage2D object at 0x6b243e0>\n",
      "Image Class:  <ROOT.larcv::Image2D object at 0x6b009b0>\n",
      "Number of Pixels:  331776\n",
      "Pixel Value at (575, 575):  0.0\n"
     ]
    }
   ],
   "source": [
    "# Sets up the TChain to pull entries from the tree named below.\n",
    "pixel_tree_name='image2d_tpc_hires_crop_tree'\n",
    "pixel_ch = TChain(pixel_tree_name)\n",
    "pixel_ch.AddFile('../test.root')\n",
    "\n",
    "# Pulls instance (aka Entry) `0` out of file and into memory.\n",
    "# Feel free to change this index to fetch out whichever entry you want!\n",
    "pixel_ch.GetEntry(0)\n",
    "# Objects in memory are stored as members of the TChain\n",
    "# Since these are dynamically named, the following hack is required to pull them out of the branch\n",
    "pixel_br=getattr(pixel_ch, pixel_tree_name.replace('tree','branch'))\n",
    "print \"Class in Branch: \", pixel_br\n",
    "#Now, we can pull out the channel, and the image corresponding to that channel\n",
    "# Feel free to change this to any value in (0,2). This corresponds to plane number\n",
    "image = pixel_br.at(2)\n",
    "print \"Image Class: \", image\n",
    "print \"Number of Pixels: \", image.size()\n",
    "# All images are of the size 576,576.\n",
    "# Fetches out the pixel value\n",
    "print \"Pixel Value at (575, 575): \", image.pixel(575,575)"
   ]
  },
  {
   "cell_type": "markdown",
   "metadata": {},
   "source": [
    "### Drawing a Single Image"
   ]
  },
  {
   "cell_type": "code",
   "execution_count": 4,
   "metadata": {
    "collapsed": false
   },
   "outputs": [
    {
     "data": {
      "image/png": "[encoded data removed]",
      "text/plain": [
       "<IPython.core.display.Image object>"
      ]
     },
     "execution_count": 4,
     "metadata": {},
     "output_type": "execute_result"
    }
   ],
   "source": [
    "data = np.zeros( (576,576,3), dtype=np.uint8 )\n",
    "for i in range(576):\n",
    "    for j in range(576):\n",
    "        data[i,j] = [image.pixel(i,j),0,0] \n",
    "img = smp.toimage( data )       # Create a PIL image\n",
    "img.save('single_image.png')\n",
    "from IPython.display import Image\n",
    "Image(filename='single_image.png') "
   ]
  },
  {
   "cell_type": "markdown",
   "metadata": {},
   "source": [
    "## Creating a 3-Layer Image\n",
    "\n",
    "I'm mostly doing this one for fun :)"
   ]
  },
  {
   "cell_type": "code",
   "execution_count": null,
   "metadata": {
    "collapsed": false
   },
   "outputs": [
    {
     "data": {
      "image/png": "[encoded data removed]",
      "text/plain": [
       "<IPython.core.display.Image object>"
      ]
     },
     "execution_count": 5,
     "metadata": {},
     "output_type": "execute_result"
    }
   ],
   "source": [
    "data = np.zeros( (576,576,3), dtype=np.uint8 )\n",
    "for i in range(576):\n",
    "    for j in range(576):\n",
    "        data[i,j] = [pixel_br.at(0).pixel(i,j),pixel_br.at(1).pixel(i,j),pixel_br.at(2).pixel(i,j)] \n",
    "img = smp.toimage( data )       # Create a PIL image\n",
    "img.save('composite_image.png')\n",
    "from IPython.display import Image\n",
    "Image(filename='composite_image.png') "
   ]
  },
  {
   "cell_type": "markdown",
   "metadata": {},
   "source": [
    "## Looping Over Events in File\n",
    "\n",
    "The code snippet below loops over all the events in file and pulls out the individual images."
   ]
  },
  {
   "cell_type": "code",
   "execution_count": null,
   "metadata": {
    "collapsed": false
   },
   "outputs": [],
   "source": [
    "# Loops over the  intances stored in the file\n",
    "for entry in xrange(pixel_ch.GetEntries()):\n",
    "    pixel_ch.GetEntry(entry)\n",
    "    pixel_br=getattr(pixel_ch, pixel_tree_name.replace('tree','branch'))\n",
    "    for plane in range(3):\n",
    "        image = pixel_br.at(plane)    "
   ]
  },
  {
   "cell_type": "markdown",
   "metadata": {},
   "source": [
    "### Creating a composite image from all of the events'\n",
    "\n",
    "Once again, this is done for fun, but demonstrates the ability to parse through data in batch."
   ]
  },
  {
   "cell_type": "code",
   "execution_count": null,
   "metadata": {
    "collapsed": false
   },
   "outputs": [],
   "source": [
    "data = np.zeros( (576,576,3), dtype=np.float32 )\n",
    "for entry in xrange(pixel_ch.GetEntries()):\n",
    "    pixel_ch.GetEntry(entry)\n",
    "    pixel_br=getattr(pixel_ch, pixel_tree_name.replace('tree','branch'))\n",
    "    for plane in range(3):\n",
    "        image = pixel_br.at(plane)\n",
    "        for x in range(576):\n",
    "            for y in range(576):\n",
    "                data[x,y,plane] += float(image.pixel(x,y))/pixel_ch.GetEntries()\n",
    "img = smp.toimage( data )\n",
    "img.save('composite_image2.png')\n",
    "from IPython.display import Image\n",
    "Image(filename='composite_image2.png') "
   ]
  },
  {
   "cell_type": "code",
   "execution_count": null,
   "metadata": {
    "collapsed": true
   },
   "outputs": [],
   "source": []
  }
 ],
 "metadata": {
  "kernelspec": {
   "display_name": "Python 2",
   "language": "python",
   "name": "python2"
  },
  "language_info": {
   "codemirror_mode": {
    "name": "ipython",
    "version": 2
   },
   "file_extension": ".py",
   "mimetype": "text/x-python",
   "name": "python",
   "nbconvert_exporter": "python",
   "pygments_lexer": "ipython2",
   "version": "2.7.6"
  }
 },
 "nbformat": 4,
 "nbformat_minor": 2
}
