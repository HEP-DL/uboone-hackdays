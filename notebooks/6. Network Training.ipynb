{
 "cells": [
  {
   "cell_type": "markdown",
   "metadata": {
    "deletable": true,
    "editable": true
   },
   "source": [
    "# Setup Caffe\n",
    "\n",
    "The below is going to setup caffe to run on the cpu. This is done to protect the container against accidentally trying to access CUDA.\n",
    "\n",
    "> Caveat: For production network trainings, I would never do this. Neither should you. That being said, monitoring scripts are OK."
   ]
  },
  {
   "cell_type": "code",
   "execution_count": 1,
   "metadata": {
    "collapsed": false,
    "deletable": true,
    "editable": true
   },
   "outputs": [],
   "source": [
    "import caffe\n",
    "caffe.set_mode_cpu()"
   ]
  },
  {
   "cell_type": "code",
   "execution_count": 2,
   "metadata": {
    "collapsed": false,
    "deletable": true,
    "editable": true
   },
   "outputs": [],
   "source": [
    "net = caffe.Net('/workspace/plainresnet10b_untrained/sp_plainresnet10b_test.prototxt', caffe.TRAIN)"
   ]
  },
  {
   "cell_type": "markdown",
   "metadata": {
    "deletable": true,
    "editable": true
   },
   "source": [
    "## More Warnings\n",
    "\n",
    "Make sure to check the files before running this. If Caffe fails, then it crashes the python kernel, and you have to check the terminal output to determine the cause. Roughly 99.9% of the time, it's the configuration file."
   ]
  },
  {
   "cell_type": "code",
   "execution_count": 3,
   "metadata": {
    "collapsed": false,
    "deletable": true,
    "editable": true
   },
   "outputs": [],
   "source": [
    "import os\n",
    "solver=None\n",
    "if os.path.exists('/workspace/plainresnet10b_untrained/sp_plainresnet10b_solver.prototxt'):\n",
    "    solver = caffe.RMSPropSolver('/workspace/plainresnet10b_untrained/sp_plainresnet10b_solver.prototxt');"
   ]
  },
  {
   "cell_type": "markdown",
   "metadata": {
    "deletable": true,
    "editable": true
   },
   "source": [
    "## Solve for 1 step"
   ]
  },
  {
   "cell_type": "code",
   "execution_count": 5,
   "metadata": {
    "collapsed": true,
    "deletable": true,
    "editable": true
   },
   "outputs": [],
   "source": [
    "solver.step(1);"
   ]
  }
 ],
 "metadata": {
  "kernelspec": {
   "display_name": "Python 2",
   "language": "python",
   "name": "python2"
  },
  "language_info": {
   "codemirror_mode": {
    "name": "ipython",
    "version": 2
   },
   "file_extension": ".py",
   "mimetype": "text/x-python",
   "name": "python",
   "nbconvert_exporter": "python",
   "pygments_lexer": "ipython2",
   "version": "2.7.6"
  }
 },
 "nbformat": 4,
 "nbformat_minor": 2
}
